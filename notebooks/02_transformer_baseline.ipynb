{
 "cells": [
  {
   "cell_type": "markdown",
   "id": "db80c2db",
   "metadata": {},
   "source": [
    "# Transformer-based Intent Classification on Banking77\n",
    "\n",
    "In this notebook, we fine-tune a **DistilBERT model** on the [Banking77 dataset](https://huggingface.co/datasets/banking77), \n",
    "which contains 13,000 customer queries across 77 intents.\n",
    "\n",
    "Goals of this notebook:\n",
    "- Load and preprocess the dataset into a format suitable for transformers.\n",
    "- Tokenize queries with a pretrained **DistilBERT tokenizer**.\n",
    "- Fine-tune **DistilBERT** using Hugging Face `Trainer`.\n",
    "- Evaluate performance with metrics (accuracy, F1).\n",
    "- Compare results against our baseline (TF-IDF + Logistic Regression).\n",
    "- Save the fine-tuned model for later use in the project API.\n",
    "\n",
    "This step demonstrates how contextual embeddings capture semantic meaning, \n",
    "resolving confusions that the baseline model struggled with."
   ]
  },
  {
   "cell_type": "code",
   "execution_count": 1,
   "id": "f95b23d7",
   "metadata": {},
   "outputs": [
    {
     "name": "stderr",
     "output_type": "stream",
     "text": [
      "/Users/rawad.alabboud/Documents/GitHub/bank-nlp-assistant/.venv/lib/python3.9/site-packages/urllib3/__init__.py:35: NotOpenSSLWarning: urllib3 v2 only supports OpenSSL 1.1.1+, currently the 'ssl' module is compiled with 'LibreSSL 2.8.3'. See: https://github.com/urllib3/urllib3/issues/3020\n",
      "  warnings.warn(\n"
     ]
    },
    {
     "name": "stdout",
     "output_type": "stream",
     "text": [
      "PyTorch: 2.8.0\n",
      "Transformers: 4.56.1 | Datasets: 4.0.0\n"
     ]
    }
   ],
   "source": [
    "# Core\n",
    "import os, sys, inspect, numpy as np, pandas as pd\n",
    "import torch\n",
    "from datasets import load_dataset\n",
    "from sklearn.metrics import accuracy_score, f1_score, classification_report\n",
    "\n",
    "# HF Transformers\n",
    "from transformers import (\n",
    "    DistilBertTokenizerFast,\n",
    "    DistilBertForSequenceClassification,\n",
    "    TrainingArguments,\n",
    "    Trainer,\n",
    ")\n",
    "\n",
    "# Optional early stopping (may not exist in very old versions)\n",
    "try:\n",
    "    from transformers import EarlyStoppingCallback, IntervalStrategy\n",
    "    HAS_EARLY = True\n",
    "except Exception:\n",
    "    EarlyStoppingCallback, IntervalStrategy, HAS_EARLY = None, None, False\n",
    "\n",
    "print(\"PyTorch:\", torch.__version__)\n",
    "import transformers, datasets\n",
    "print(\"Transformers:\", transformers.__version__, \"| Datasets:\", datasets.__version__)\n",
    "\n",
    "# Force CPU to avoid macOS MPS issues\n",
    "DEVICE = torch.device(\"cpu\")\n",
    "os.environ[\"PYTORCH_ENABLE_MPS_FALLBACK\"] = \"1\"\n"
   ]
  },
  {
   "cell_type": "code",
   "execution_count": 2,
   "id": "6cb49afc",
   "metadata": {},
   "outputs": [
    {
     "data": {
      "text/plain": [
       "(9002, 1001, 3080, 77)"
      ]
     },
     "execution_count": 2,
     "metadata": {},
     "output_type": "execute_result"
    }
   ],
   "source": [
    "ds = load_dataset(\"banking77\")  # train/test\n",
    "labels = ds[\"train\"].features[\"label\"].names\n",
    "num_labels = len(labels)\n",
    "\n",
    "# 10% validation from train\n",
    "split = ds[\"train\"].train_test_split(test_size=0.10, seed=42)\n",
    "train_ds, val_ds = split[\"train\"], split[\"test\"]\n",
    "test_ds = ds[\"test\"]\n",
    "\n",
    "len(train_ds), len(val_ds), len(test_ds), num_labels\n"
   ]
  },
  {
   "cell_type": "code",
   "execution_count": 3,
   "id": "25ec2c82",
   "metadata": {},
   "outputs": [
    {
     "data": {
      "application/vnd.jupyter.widget-view+json": {
       "model_id": "9f6be8d858ca43ac963dc30002a28e46",
       "version_major": 2,
       "version_minor": 0
      },
      "text/plain": [
       "Map:   0%|          | 0/9002 [00:00<?, ? examples/s]"
      ]
     },
     "metadata": {},
     "output_type": "display_data"
    },
    {
     "data": {
      "application/vnd.jupyter.widget-view+json": {
       "model_id": "c6c774b45fa54d9a8eb032431630afde",
       "version_major": 2,
       "version_minor": 0
      },
      "text/plain": [
       "Map:   0%|          | 0/1001 [00:00<?, ? examples/s]"
      ]
     },
     "metadata": {},
     "output_type": "display_data"
    },
    {
     "data": {
      "application/vnd.jupyter.widget-view+json": {
       "model_id": "17bf38fe7e9d47e788ee54428398517c",
       "version_major": 2,
       "version_minor": 0
      },
      "text/plain": [
       "Map:   0%|          | 0/3080 [00:00<?, ? examples/s]"
      ]
     },
     "metadata": {},
     "output_type": "display_data"
    },
    {
     "name": "stderr",
     "output_type": "stream",
     "text": [
      "Some weights of DistilBertForSequenceClassification were not initialized from the model checkpoint at distilbert-base-uncased and are newly initialized: ['classifier.bias', 'classifier.weight', 'pre_classifier.bias', 'pre_classifier.weight']\n",
      "You should probably TRAIN this model on a down-stream task to be able to use it for predictions and inference.\n"
     ]
    }
   ],
   "source": [
    "model_name = \"distilbert-base-uncased\"\n",
    "tokenizer = DistilBertTokenizerFast.from_pretrained(model_name)\n",
    "\n",
    "def tok(batch):\n",
    "    return tokenizer(batch[\"text\"], truncation=True, padding=\"max_length\", max_length=64)\n",
    "\n",
    "train_enc = train_ds.map(tok, batched=True)\n",
    "val_enc   = val_ds.map(tok, batched=True)\n",
    "test_enc  = test_ds.map(tok, batched=True)\n",
    "\n",
    "# rename label->labels and set torch format\n",
    "for d in (train_enc, val_enc, test_enc):\n",
    "    d = d.rename_column(\"label\", \"labels\") if \"label\" in d.column_names else d\n",
    "    d.set_format(\"torch\", columns=[\"input_ids\",\"attention_mask\",\"labels\"])\n",
    "\n",
    "model = DistilBertForSequenceClassification.from_pretrained(\n",
    "    model_name,\n",
    "    num_labels=num_labels,\n",
    "    id2label={i:l for i,l in enumerate(labels)},\n",
    "    label2id={l:i for i,l in enumerate(labels)},\n",
    ").to(DEVICE)\n"
   ]
  },
  {
   "cell_type": "code",
   "execution_count": 4,
   "id": "f29d8a76",
   "metadata": {},
   "outputs": [],
   "source": [
    "def compute_metrics(pred):\n",
    "    y_true = pred.label_ids\n",
    "    y_pred = np.argmax(pred.predictions, axis=-1)\n",
    "    return {\n",
    "        \"accuracy\": accuracy_score(y_true, y_pred),\n",
    "        \"f1_macro\": f1_score(y_true, y_pred, average=\"macro\"),\n",
    "    }"
   ]
  },
  {
   "cell_type": "code",
   "execution_count": 5,
   "id": "c5616f8e",
   "metadata": {},
   "outputs": [
    {
     "name": "stderr",
     "output_type": "stream",
     "text": [
      "/Users/rawad.alabboud/Documents/GitHub/bank-nlp-assistant/.venv/lib/python3.9/site-packages/transformers/training_args.py:1619: FutureWarning: using `no_cuda` is deprecated and will be removed in version 5.0 of 🤗 Transformers. Use `use_cpu` instead\n",
      "  warnings.warn(\n",
      "/var/folders/13/nlgy725900n70qy7nvv3hj4r0000gp/T/ipykernel_76620/1857180373.py:44: FutureWarning: `tokenizer` is deprecated and will be removed in version 5.0.0 for `Trainer.__init__`. Use `processing_class` instead.\n",
      "  trainer = Trainer(\n"
     ]
    }
   ],
   "source": [
    "# Try modern API first; if it fails, fall back to legacy args\n",
    "def build_args():\n",
    "    common = dict(\n",
    "        output_dir=\"../models/intent/transformer\",\n",
    "        learning_rate=2e-5,\n",
    "        per_device_train_batch_size=16,\n",
    "        per_device_eval_batch_size=32,\n",
    "        num_train_epochs=5,\n",
    "        warmup_ratio=0.06,\n",
    "        weight_decay=0.05,\n",
    "        load_best_model_at_end=True,\n",
    "        metric_for_best_model=\"f1_macro\",\n",
    "        seed=42,\n",
    "        logging_dir=\"../models/intent/logs\",\n",
    "        logging_steps=50,\n",
    "        no_cuda=True,          # keep CPU for portability / avoid MPS quirks\n",
    "        use_mps_device=False,\n",
    "    )\n",
    "    try:\n",
    "        return TrainingArguments(\n",
    "            evaluation_strategy=IntervalStrategy.EPOCH,\n",
    "            save_strategy=IntervalStrategy.EPOCH,\n",
    "            **common\n",
    "        )\n",
    "    except Exception:\n",
    "        try:\n",
    "            return TrainingArguments(\n",
    "                eval_strategy=IntervalStrategy.EPOCH,\n",
    "                save_strategy=IntervalStrategy.EPOCH,\n",
    "                **common\n",
    "            )\n",
    "        except Exception:\n",
    "            # very old transformers fallback\n",
    "            return TrainingArguments(\n",
    "                evaluate_during_training=True,\n",
    "                save_steps=500,\n",
    "                eval_steps=500,\n",
    "                **common\n",
    "            )\n",
    "\n",
    "training_args = build_args()\n",
    "\n",
    "callbacks = [EarlyStoppingCallback(early_stopping_patience=2)] if HAS_EARLY else None\n",
    "trainer = Trainer(\n",
    "    model=model,\n",
    "    args=training_args,\n",
    "    train_dataset=train_enc,\n",
    "    eval_dataset=val_enc,\n",
    "    tokenizer=tokenizer,\n",
    "    compute_metrics=compute_metrics,\n",
    "    callbacks=callbacks,\n",
    ")\n"
   ]
  },
  {
   "cell_type": "code",
   "execution_count": 6,
   "id": "54fe7bfc",
   "metadata": {},
   "outputs": [
    {
     "data": {
      "text/html": [
       "\n",
       "    <div>\n",
       "      \n",
       "      <progress value='2815' max='2815' style='width:300px; height:20px; vertical-align: middle;'></progress>\n",
       "      [2815/2815 20:38, Epoch 5/5]\n",
       "    </div>\n",
       "    <table border=\"1\" class=\"dataframe\">\n",
       "  <thead>\n",
       " <tr style=\"text-align: left;\">\n",
       "      <th>Epoch</th>\n",
       "      <th>Training Loss</th>\n",
       "      <th>Validation Loss</th>\n",
       "      <th>Accuracy</th>\n",
       "      <th>F1 Macro</th>\n",
       "    </tr>\n",
       "  </thead>\n",
       "  <tbody>\n",
       "    <tr>\n",
       "      <td>1</td>\n",
       "      <td>2.339900</td>\n",
       "      <td>2.070016</td>\n",
       "      <td>0.682318</td>\n",
       "      <td>0.604786</td>\n",
       "    </tr>\n",
       "    <tr>\n",
       "      <td>2</td>\n",
       "      <td>1.034700</td>\n",
       "      <td>0.925630</td>\n",
       "      <td>0.834166</td>\n",
       "      <td>0.813430</td>\n",
       "    </tr>\n",
       "    <tr>\n",
       "      <td>3</td>\n",
       "      <td>0.588800</td>\n",
       "      <td>0.567596</td>\n",
       "      <td>0.876124</td>\n",
       "      <td>0.867893</td>\n",
       "    </tr>\n",
       "    <tr>\n",
       "      <td>4</td>\n",
       "      <td>0.408900</td>\n",
       "      <td>0.457742</td>\n",
       "      <td>0.890110</td>\n",
       "      <td>0.888448</td>\n",
       "    </tr>\n",
       "    <tr>\n",
       "      <td>5</td>\n",
       "      <td>0.282200</td>\n",
       "      <td>0.422894</td>\n",
       "      <td>0.891109</td>\n",
       "      <td>0.890036</td>\n",
       "    </tr>\n",
       "  </tbody>\n",
       "</table><p>"
      ],
      "text/plain": [
       "<IPython.core.display.HTML object>"
      ]
     },
     "metadata": {},
     "output_type": "display_data"
    },
    {
     "data": {
      "text/plain": [
       "TrainOutput(global_step=2815, training_loss=1.275690481209628, metrics={'train_runtime': 1239.8831, 'train_samples_per_second': 36.302, 'train_steps_per_second': 2.27, 'total_flos': 746291547160320.0, 'train_loss': 1.275690481209628, 'epoch': 5.0})"
      ]
     },
     "execution_count": 6,
     "metadata": {},
     "output_type": "execute_result"
    }
   ],
   "source": [
    "trainer.train()"
   ]
  },
  {
   "cell_type": "code",
   "execution_count": 7,
   "id": "7b3b5aa1",
   "metadata": {},
   "outputs": [
    {
     "data": {
      "text/html": [],
      "text/plain": [
       "<IPython.core.display.HTML object>"
      ]
     },
     "metadata": {},
     "output_type": "display_data"
    },
    {
     "name": "stdout",
     "output_type": "stream",
     "text": [
      "Test metrics: {'eval_loss': 0.4315420687198639, 'eval_accuracy': 0.8983766233766234, 'eval_f1_macro': 0.8976480369690298, 'eval_runtime': 20.1929, 'eval_samples_per_second': 152.529, 'eval_steps_per_second': 4.804, 'epoch': 5.0}\n",
      "                                                  precision    recall  f1-score   support\n",
      "\n",
      "                                activate_my_card       1.00      0.95      0.97        40\n",
      "                                       age_limit       0.93      0.97      0.95        40\n",
      "                         apple_pay_or_google_pay       0.98      1.00      0.99        40\n",
      "                                     atm_support       1.00      0.97      0.99        40\n",
      "                                automatic_top_up       1.00      0.90      0.95        40\n",
      "         balance_not_updated_after_bank_transfer       0.76      0.80      0.78        40\n",
      "balance_not_updated_after_cheque_or_cash_deposit       1.00      0.95      0.97        40\n",
      "                         beneficiary_not_allowed       0.92      0.90      0.91        40\n",
      "                                 cancel_transfer       0.95      0.93      0.94        40\n",
      "                            card_about_to_expire       0.93      1.00      0.96        40\n",
      "                                 card_acceptance       0.94      0.78      0.85        40\n",
      "                                    card_arrival       0.87      0.85      0.86        40\n",
      "                          card_delivery_estimate       0.90      0.90      0.90        40\n",
      "                                    card_linking       0.91      1.00      0.95        40\n",
      "                                card_not_working       0.81      0.95      0.87        40\n",
      "                        card_payment_fee_charged       0.83      0.95      0.88        40\n",
      "                     card_payment_not_recognised       0.82      0.82      0.82        40\n",
      "                card_payment_wrong_exchange_rate       0.90      0.93      0.91        40\n",
      "                                  card_swallowed       1.00      0.80      0.89        40\n",
      "                          cash_withdrawal_charge       0.93      0.95      0.94        40\n",
      "                  cash_withdrawal_not_recognised       0.84      0.95      0.89        40\n",
      "                                      change_pin       0.91      0.97      0.94        40\n",
      "                                compromised_card       0.91      0.78      0.84        40\n",
      "                         contactless_not_working       1.00      0.88      0.93        40\n",
      "                                 country_support       0.91      0.97      0.94        40\n",
      "                           declined_card_payment       0.78      0.95      0.85        40\n",
      "                        declined_cash_withdrawal       0.78      1.00      0.88        40\n",
      "                               declined_transfer       1.00      0.72      0.84        40\n",
      "             direct_debit_payment_not_recognised       0.89      0.78      0.83        40\n",
      "                          disposable_card_limits       0.90      0.88      0.89        40\n",
      "                           edit_personal_details       0.93      1.00      0.96        40\n",
      "                                 exchange_charge       0.95      0.88      0.91        40\n",
      "                                   exchange_rate       0.93      0.95      0.94        40\n",
      "                                exchange_via_app       0.80      0.90      0.85        40\n",
      "                       extra_charge_on_statement       1.00      0.95      0.97        40\n",
      "                                 failed_transfer       0.81      0.95      0.87        40\n",
      "                           fiat_currency_support       0.86      0.80      0.83        40\n",
      "                     get_disposable_virtual_card       0.66      0.82      0.73        40\n",
      "                               get_physical_card       0.95      0.97      0.96        40\n",
      "                              getting_spare_card       0.95      0.90      0.92        40\n",
      "                            getting_virtual_card       0.83      0.97      0.90        40\n",
      "                             lost_or_stolen_card       0.86      0.95      0.90        40\n",
      "                            lost_or_stolen_phone       0.95      0.97      0.96        40\n",
      "                             order_physical_card       0.90      0.88      0.89        40\n",
      "                              passcode_forgotten       1.00      1.00      1.00        40\n",
      "                            pending_card_payment       0.93      0.93      0.93        40\n",
      "                         pending_cash_withdrawal       1.00      0.90      0.95        40\n",
      "                                  pending_top_up       0.93      0.93      0.93        40\n",
      "                                pending_transfer       0.91      0.75      0.82        40\n",
      "                                     pin_blocked       0.97      0.85      0.91        40\n",
      "                                 receiving_money       0.93      0.93      0.93        40\n",
      "                           Refund_not_showing_up       1.00      0.93      0.96        40\n",
      "                                  request_refund       0.88      0.95      0.92        40\n",
      "                          reverted_card_payment?       0.80      0.90      0.85        40\n",
      "                  supported_cards_and_currencies       0.86      0.95      0.90        40\n",
      "                               terminate_account       0.89      1.00      0.94        40\n",
      "                  top_up_by_bank_transfer_charge       0.92      0.82      0.87        40\n",
      "                           top_up_by_card_charge       0.93      0.95      0.94        40\n",
      "                        top_up_by_cash_or_cheque       0.92      0.90      0.91        40\n",
      "                                   top_up_failed       0.88      0.93      0.90        40\n",
      "                                   top_up_limits       0.93      0.97      0.95        40\n",
      "                                 top_up_reverted       0.91      0.80      0.85        40\n",
      "                              topping_up_by_card       0.76      0.78      0.77        40\n",
      "                       transaction_charged_twice       0.93      1.00      0.96        40\n",
      "                            transfer_fee_charged       0.90      0.95      0.93        40\n",
      "                           transfer_into_account       0.92      0.85      0.88        40\n",
      "              transfer_not_received_by_recipient       0.81      0.85      0.83        40\n",
      "                                 transfer_timing       0.81      0.88      0.84        40\n",
      "                       unable_to_verify_identity       0.89      0.85      0.87        40\n",
      "                              verify_my_identity       0.70      0.82      0.76        40\n",
      "                          verify_source_of_funds       1.00      1.00      1.00        40\n",
      "                                   verify_top_up       1.00      1.00      1.00        40\n",
      "                        virtual_card_not_working       1.00      0.50      0.67        40\n",
      "                              visa_or_mastercard       0.97      0.90      0.94        40\n",
      "                             why_verify_identity       0.71      0.60      0.65        40\n",
      "                   wrong_amount_of_cash_received       0.95      0.90      0.92        40\n",
      "         wrong_exchange_rate_for_cash_withdrawal       1.00      0.85      0.92        40\n",
      "\n",
      "                                        accuracy                           0.90      3080\n",
      "                                       macro avg       0.90      0.90      0.90      3080\n",
      "                                    weighted avg       0.90      0.90      0.90      3080\n",
      "\n"
     ]
    }
   ],
   "source": [
    "test_metrics = trainer.evaluate(test_enc)\n",
    "print(\"Test metrics:\", test_metrics)\n",
    "\n",
    "preds = trainer.predict(test_enc)\n",
    "y_true = preds.label_ids\n",
    "y_pred = np.argmax(preds.predictions, axis=-1)\n",
    "print(classification_report(y_true, y_pred, target_names=labels, zero_division=0))"
   ]
  },
  {
   "cell_type": "code",
   "execution_count": 8,
   "id": "516e9484",
   "metadata": {},
   "outputs": [
    {
     "name": "stdout",
     "output_type": "stream",
     "text": [
      "Saved to: ../models/intent/transformer_ft\n"
     ]
    }
   ],
   "source": [
    "SAVE_DIR = \"../models/intent/transformer_ft\"\n",
    "trainer.save_model(SAVE_DIR)\n",
    "tokenizer.save_pretrained(SAVE_DIR)\n",
    "print(\"Saved to:\", SAVE_DIR)"
   ]
  },
  {
   "cell_type": "code",
   "execution_count": 9,
   "id": "a58685b0",
   "metadata": {},
   "outputs": [
    {
     "data": {
      "text/html": [
       "<div>\n",
       "<style scoped>\n",
       "    .dataframe tbody tr th:only-of-type {\n",
       "        vertical-align: middle;\n",
       "    }\n",
       "\n",
       "    .dataframe tbody tr th {\n",
       "        vertical-align: top;\n",
       "    }\n",
       "\n",
       "    .dataframe thead th {\n",
       "        text-align: right;\n",
       "    }\n",
       "</style>\n",
       "<table border=\"1\" class=\"dataframe\">\n",
       "  <thead>\n",
       "    <tr style=\"text-align: right;\">\n",
       "      <th></th>\n",
       "      <th>Model</th>\n",
       "      <th>Accuracy</th>\n",
       "      <th>Macro-F1</th>\n",
       "    </tr>\n",
       "  </thead>\n",
       "  <tbody>\n",
       "    <tr>\n",
       "      <th>0</th>\n",
       "      <td>TF-IDF + LR</td>\n",
       "      <td>0.850649</td>\n",
       "      <td>0.849776</td>\n",
       "    </tr>\n",
       "    <tr>\n",
       "      <th>1</th>\n",
       "      <td>DistilBERT</td>\n",
       "      <td>0.898377</td>\n",
       "      <td>0.897648</td>\n",
       "    </tr>\n",
       "  </tbody>\n",
       "</table>\n",
       "</div>"
      ],
      "text/plain": [
       "         Model  Accuracy  Macro-F1\n",
       "0  TF-IDF + LR  0.850649  0.849776\n",
       "1   DistilBERT  0.898377  0.897648"
      ]
     },
     "metadata": {},
     "output_type": "display_data"
    },
    {
     "data": {
      "image/png": "[encoded data removed]",
      "text/plain": [
       "<Figure size 600x400 with 1 Axes>"
      ]
     },
     "metadata": {},
     "output_type": "display_data"
    }
   ],
   "source": [
    "from pathlib import Path\n",
    "from sklearn.pipeline import Pipeline\n",
    "from sklearn.feature_extraction.text import TfidfVectorizer\n",
    "from sklearn.linear_model import LogisticRegression\n",
    "import joblib, matplotlib.pyplot as plt\n",
    "\n",
    "# Prepare test strings / labels as strings\n",
    "test_texts = [x[\"text\"] for x in test_ds]\n",
    "test_label_str = [labels[i] for i in test_ds[\"label\"]]\n",
    "\n",
    "# 9a) Sklearn baseline: load if exists; else quick-train on HF train split\n",
    "sk_path = Path(\"../models/intent/sklearn/model.joblib\")\n",
    "if sk_path.exists():\n",
    "    sk_model = joblib.load(sk_path)\n",
    "else:\n",
    "    # quick train on the HF train split (notebooks-only convenience)\n",
    "    train_texts = [x[\"text\"] for x in train_ds]\n",
    "    train_label_str = [labels[i] for i in train_ds[\"label\"]]\n",
    "    sk_model = Pipeline([\n",
    "        (\"tfidf\", TfidfVectorizer(ngram_range=(1,2), min_df=2)),\n",
    "        (\"clf\", LogisticRegression(max_iter=1000, n_jobs=-1)),\n",
    "    ]).fit(train_texts, train_label_str)\n",
    "\n",
    "# Evaluate sklearn\n",
    "y_pred_sk = sk_model.predict(test_texts)\n",
    "acc_sk = accuracy_score(test_label_str, y_pred_sk)\n",
    "f1_sk  = f1_score(test_label_str, y_pred_sk, average=\"macro\")\n",
    "\n",
    "# Evaluate transformer (already have y_true, y_pred as IDs)\n",
    "acc_tr = accuracy_score(y_true, y_pred)\n",
    "f1_tr  = f1_score(y_true, y_pred, average=\"macro\")\n",
    "\n",
    "# Table\n",
    "cmp = pd.DataFrame({\n",
    "    \"Model\": [\"TF-IDF + LR\", \"DistilBERT\"],\n",
    "    \"Accuracy\": [acc_sk, acc_tr],\n",
    "    \"Macro-F1\": [f1_sk, f1_tr],\n",
    "})\n",
    "display(cmp)\n",
    "\n",
    "# Bar chart\n",
    "metrics = [\"Accuracy\", \"Macro-F1\"]\n",
    "vals = np.array([[acc_sk, f1_sk], [acc_tr, f1_tr]], float)\n",
    "x = np.arange(len(metrics)); w = 0.35\n",
    "plt.figure(figsize=(6,4))\n",
    "plt.bar(x-w/2, vals[0], width=w, label=\"TF-IDF + LR\")\n",
    "plt.bar(x+w/2, vals[1], width=w, label=\"DistilBERT\")\n",
    "plt.xticks(x, metrics); plt.ylim(0,1)\n",
    "plt.title(\"Banking77 — Test Set Comparison\")\n",
    "plt.legend(); plt.tight_layout(); plt.show()\n"
   ]
  },
  {
   "cell_type": "markdown",
   "id": "b12dc2df",
   "metadata": {},
   "source": [
    "## Summary & Comparison\n",
    "\n",
    "In this notebook, we fine-tuned **DistilBERT** on the Banking77 dataset and compared it to the baseline **TF-IDF + Logistic Regression** model.\n",
    "\n",
    "- **TF-IDF + LR**\n",
    "  - Accuracy: ~0.85\n",
    "  - Macro-F1: ~0.85\n",
    "\n",
    "- **DistilBERT (fine-tuned)**\n",
    "  - Accuracy: ~0.90\n",
    "  - Macro-F1: ~0.90\n",
    "\n",
    "These results show that contextual embeddings from transformers provide a clear improvement over traditional bag-of-words approaches.  \n",
    "While TF-IDF performs reasonably well, DistilBERT captures semantic meaning better, reducing confusions in user queries.\n",
    "\n",
    "Next steps:\n",
    "- Perform **error analysis** with confusion matrices to identify common misclassifications.\n",
    "- Explore **hyperparameter tuning** and possibly larger transformer models.\n",
    "- Integrate the fine-tuned model into the **FastAPI service** for real-time intent classification.\n"
   ]
  }
 ],
 "metadata": {
  "kernelspec": {
   "display_name": ".venv",
   "language": "python",
   "name": "python3"
  },
  "language_info": {
   "codemirror_mode": {
    "name": "ipython",
    "version": 3
   },
   "file_extension": ".py",
   "mimetype": "text/x-python",
   "name": "python",
   "nbconvert_exporter": "python",
   "pygments_lexer": "ipython3",
   "version": "3.9.6"
  }
 },
 "nbformat": 4,
 "nbformat_minor": 5
}
